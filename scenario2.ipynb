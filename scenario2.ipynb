{
 "cells": [
  {
   "cell_type": "code",
   "execution_count": null,
   "metadata": {},
   "outputs": [],
   "source": [
    "from autofeatinsights.autofeat_class import FeatureDiscovery\n",
    "\n",
    "autofeat = FeatureDiscovery()\n",
    "autofeat.set_base_table(base_table=\"school/base.csv\", target_column=\"class\")\n",
    "autofeat.set_dataset_repository(dataset_repository=[\"school\"])\n"
   ]
  },
  {
   "cell_type": "code",
   "execution_count": null,
   "metadata": {},
   "outputs": [],
   "source": [
    "autofeat.find_relationships()\n",
    "autofeat.display_best_relationships()\n"
   ]
  },
  {
   "cell_type": "code",
   "execution_count": null,
   "outputs": [],
   "source": [
    "autofeat.display_table_relationship(\n",
    "    table1=\"school/base.csv\",\n",
    "    table2=\"school/Schools_Progress_Report_2012-2013.csv\")"
   ],
   "metadata": {
    "collapsed": false
   }
  },
  {
   "cell_type": "code",
   "execution_count": null,
   "outputs": [],
   "source": [
    "autofeat.compute_join_trees()"
   ],
   "metadata": {
    "collapsed": false
   }
  },
  {
   "cell_type": "code",
   "execution_count": null,
   "outputs": [],
   "source": [
    "autofeat.display_join_trees()"
   ],
   "metadata": {
    "collapsed": false
   }
  },
  {
   "cell_type": "code",
   "execution_count": null,
   "metadata": {},
   "outputs": [],
   "source": [
    "autofeat.inspect_join_tree(tree_id=3)"
   ]
  },
  {
   "cell_type": "code",
   "execution_count": null,
   "metadata": {},
   "outputs": [],
   "source": [
    "autofeat.evaluate_augmented_table(tree_id=3)\n"
   ]
  },
  {
   "cell_type": "code",
   "execution_count": null,
   "outputs": [],
   "source": [
    "autofeat.remove_join_path_from_tree(tree_id=3,\n",
    "                                    table=\"school/2013_NYC_School_Survey.csv\")\n",
    "autofeat.evaluate_augmented_table(tree_id=3)\n"
   ],
   "metadata": {
    "collapsed": false
   }
  },
  {
   "cell_type": "code",
   "execution_count": null,
   "outputs": [],
   "source": [
    "autofeat.inspect_join_tree(tree_id=2)\n"
   ],
   "metadata": {
    "collapsed": false
   }
  },
  {
   "cell_type": "code",
   "execution_count": null,
   "outputs": [],
   "source": [
    "autofeat.evaluate_augmented_table(tree_id=2)"
   ],
   "metadata": {
    "collapsed": false
   }
  },
  {
   "cell_type": "code",
   "execution_count": null,
   "outputs": [],
   "source": [
    "autofeat.move_features_to_discarded(tree_id=2,\n",
    "    features=[\n",
    "        \"school/2013_NYC_School_Survey.csv.School Type\",\n",
    "        \"school/2010_Gen_Ed_Survey_Data.csv.studentsurvey\"])\n",
    "autofeat.evaluate_augmented_table(tree_id=2)\n"
   ],
   "metadata": {
    "collapsed": false
   }
  },
  {
   "cell_type": "code",
   "execution_count": null,
   "outputs": [],
   "source": [
    "autofeat.evaluate_paths(top_k_paths=3, explain=True)"
   ],
   "metadata": {
    "collapsed": false
   }
  },
  {
   "cell_type": "code",
   "execution_count": null,
   "outputs": [],
   "source": [
    "print(autofeat.get_best_result())"
   ],
   "metadata": {
    "collapsed": false
   }
  },
  {
   "cell_type": "code",
   "execution_count": null,
   "outputs": [],
   "source": [],
   "metadata": {
    "collapsed": false
   }
  }
 ],
 "metadata": {
  "kernelspec": {
   "display_name": ".venv",
   "language": "python",
   "name": "python3"
  },
  "language_info": {
   "codemirror_mode": {
    "name": "ipython",
    "version": 3
   },
   "file_extension": ".py",
   "mimetype": "text/x-python",
   "name": "python",
   "nbconvert_exporter": "python",
   "pygments_lexer": "ipython3",
   "version": "3.11.6"
  }
 },
 "nbformat": 4,
 "nbformat_minor": 2
}
