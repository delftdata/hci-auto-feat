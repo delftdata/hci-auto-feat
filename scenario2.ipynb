{
 "cells": [
  {
   "cell_type": "code",
   "execution_count": null,
   "metadata": {},
   "outputs": [],
   "source": [
    "from autofeatinsights.autofeat_class import FeatureDiscovery\n",
    "\n",
    "autofeat = FeatureDiscovery()\n",
    "autofeat.set_base_table(base_table=\"school/base.csv\", target_column=\"class\")\n",
    "autofeat.set_dataset_repository(dataset_repository=[\"school\"])\n"
   ]
  },
  {
   "cell_type": "code",
   "execution_count": 1,
   "metadata": {},
   "outputs": [
    {
     "ename": "NameError",
     "evalue": "name 'autofeat' is not defined",
     "output_type": "error",
     "traceback": [
      "\u001b[0;31m---------------------------------------------------------------------------\u001b[0m",
      "\u001b[0;31mNameError\u001b[0m                                 Traceback (most recent call last)",
      "Cell \u001b[0;32mIn[1], line 1\u001b[0m\n\u001b[0;32m----> 1\u001b[0m \u001b[43mautofeat\u001b[49m\u001b[38;5;241m.\u001b[39mfind_relationships(matcher\u001b[38;5;241m=\u001b[39m\u001b[38;5;124m\"\u001b[39m\u001b[38;5;124mjaccard\u001b[39m\u001b[38;5;124m\"\u001b[39m)\n\u001b[1;32m      2\u001b[0m autofeat\u001b[38;5;241m.\u001b[39mdisplay_best_relationships()\n\u001b[1;32m      3\u001b[0m autofeat\u001b[38;5;241m.\u001b[39mdisplay_table_relationship(\u001b[38;5;124m\"\u001b[39m\u001b[38;5;124mschool_best/base.csv\u001b[39m\u001b[38;5;124m\"\u001b[39m, \u001b[38;5;124m\"\u001b[39m\u001b[38;5;124mschool_best/crime.csv\u001b[39m\u001b[38;5;124m\"\u001b[39m)\n",
      "\u001b[0;31mNameError\u001b[0m: name 'autofeat' is not defined"
     ]
    }
   ],
   "source": [
    "autofeat.find_relationships()\n",
    "autofeat.display_best_relationships()\n"
   ]
  },
  {
   "cell_type": "code",
   "execution_count": null,
   "metadata": {
    "collapsed": false
   },
   "outputs": [],
   "source": [
    "autofeat.display_table_relationship(\n",
    "    table1=\"school/base.csv\",\n",
    "    table2=\"school/Schools_Progress_Report_2012-2013.csv\")"
   ]
  },
  {
   "cell_type": "code",
   "execution_count": null,
   "metadata": {
    "collapsed": false
   },
   "outputs": [],
   "source": [
    "autofeat.compute_join_trees()"
   ]
  },
  {
   "cell_type": "code",
   "execution_count": null,
   "metadata": {
    "collapsed": false
   },
   "outputs": [],
   "source": [
    "autofeat.display_join_trees()"
   ]
  },
  {
   "cell_type": "code",
   "execution_count": null,
   "metadata": {},
   "outputs": [],
   "source": [
    "autofeat.inspect_join_tree(tree_id=3)"
   ]
  },
  {
   "cell_type": "code",
   "execution_count": 2,
   "metadata": {},
   "outputs": [
    {
     "name": "stdout",
     "output_type": "stream",
     "text": [
      "Reading from cache file: saved_weights/school_best/base.csv_0.5_coma_weights.txt\n",
      "Calculating join trees...\n"
     ]
    },
    {
     "name": "stderr",
     "output_type": "stream",
     "text": [
      "/home/zeger/hci-auto-feat/.venv/lib/python3.11/site-packages/pandas/core/arrays/base.py:530: RuntimeWarning: invalid value encountered in cast\n",
      "  result = np.asarray(self, dtype=dtype)\n"
     ]
    },
    {
     "name": "stdout",
     "output_type": "stream",
     "text": [
      "Evaluating join trees...\n"
     ]
    },
    {
     "name": "stderr",
     "output_type": "stream",
     "text": [
      "100%|██████████| 2/2 [00:03<00:00,  1.66s/it]\n"
     ]
    },
    {
     "name": "stdout",
     "output_type": "stream",
     "text": [
      "[school_best/base.csv -> [], school_best/base.csv -> [school_best/base.csv.DBN -> school_best/2010_Gen_Ed_Survey_Data.csv.DBN], school_best/base.csv -> [school_best/base.csv.DBN -> school_best/2010_Gen_Ed_Survey_Data.csv.DBN, school_best/base.csv.DBN -> school_best/Schools_Progress_Report_2012-2013.csv.DBN], school_best/base.csv -> [school_best/base.csv.DBN -> school_best/2010_Gen_Ed_Survey_Data.csv.DBN, school_best/base.csv.DBN -> school_best/Schools_Progress_Report_2012-2013.csv.DBN, school_best/base.csv.DBN -> school_best/crime.csv.DBN], school_best/base.csv -> [school_best/base.csv.DBN -> school_best/2010_Gen_Ed_Survey_Data.csv.DBN, school_best/base.csv.DBN -> school_best/Schools_Progress_Report_2012-2013.csv.DBN, school_best/base.csv.DBN -> school_best/crime.csv.DBN, school_best/base.csv.DBN -> school_best/disc.csv.DBN], school_best/base.csv -> [school_best/base.csv.DBN -> school_best/2010_Gen_Ed_Survey_Data.csv.DBN, school_best/base.csv.DBN -> school_best/Schools_Progress_Report_2012-2013.csv.DBN, school_best/base.csv.DBN -> school_best/crime.csv.DBN, school_best/base.csv.DBN -> school_best/disc.csv.DBN, school_best/base.csv.DBN -> school_best/oss.csv.DBN], school_best/base.csv -> [school_best/base.csv.DBN -> school_best/2010_Gen_Ed_Survey_Data.csv.DBN, school_best/base.csv.DBN -> school_best/Schools_Progress_Report_2012-2013.csv.DBN, school_best/base.csv.DBN -> school_best/crime.csv.DBN, school_best/base.csv.DBN -> school_best/disc.csv.DBN, school_best/base.csv.DBN -> school_best/oss.csv.DBN, school_best/base.csv.DBN -> school_best/pe.csv.DBN], school_best/base.csv -> [school_best/base.csv.DBN -> school_best/2010_Gen_Ed_Survey_Data.csv.DBN, school_best/base.csv.DBN -> school_best/Schools_Progress_Report_2012-2013.csv.DBN, school_best/base.csv.DBN -> school_best/crime.csv.DBN, school_best/base.csv.DBN -> school_best/disc.csv.DBN, school_best/base.csv.DBN -> school_best/oss.csv.DBN, school_best/base.csv.DBN -> school_best/pe.csv.DBN, school_best/base.csv.DBN -> school_best/qr.csv.DBN]]\n",
      "Reading from cache file: saved_weights/school_best/base.csv_0.5_coma_weights.txt\n",
      "Calculating join trees...\n"
     ]
    },
    {
     "name": "stderr",
     "output_type": "stream",
     "text": [
      "/home/zeger/hci-auto-feat/.venv/lib/python3.11/site-packages/pandas/core/arrays/base.py:530: RuntimeWarning: invalid value encountered in cast\n",
      "  result = np.asarray(self, dtype=dtype)\n"
     ]
    },
    {
     "name": "stdout",
     "output_type": "stream",
     "text": [
      "Evaluating join trees...\n"
     ]
    },
    {
     "name": "stderr",
     "output_type": "stream",
     "text": [
      "100%|██████████| 2/2 [00:02<00:00,  1.09s/it]"
     ]
    },
    {
     "name": "stdout",
     "output_type": "stream",
     "text": [
      "[school_best/base.csv -> [], school_best/base.csv -> [school_best/base.csv.DBN -> school_best/2010_Gen_Ed_Survey_Data.csv.DBN], school_best/base.csv -> [school_best/base.csv.DBN -> school_best/2010_Gen_Ed_Survey_Data.csv.DBN, school_best/base.csv.DBN -> school_best/Schools_Progress_Report_2012-2013.csv.DBN], school_best/base.csv -> [school_best/base.csv.DBN -> school_best/2010_Gen_Ed_Survey_Data.csv.DBN, school_best/base.csv.DBN -> school_best/Schools_Progress_Report_2012-2013.csv.DBN, school_best/base.csv.DBN -> school_best/crime.csv.DBN], school_best/base.csv -> [school_best/base.csv.DBN -> school_best/2010_Gen_Ed_Survey_Data.csv.DBN, school_best/base.csv.DBN -> school_best/Schools_Progress_Report_2012-2013.csv.DBN, school_best/base.csv.DBN -> school_best/crime.csv.DBN, school_best/base.csv.DBN -> school_best/disc.csv.DBN], school_best/base.csv -> [school_best/base.csv.DBN -> school_best/2010_Gen_Ed_Survey_Data.csv.DBN, school_best/base.csv.DBN -> school_best/Schools_Progress_Report_2012-2013.csv.DBN, school_best/base.csv.DBN -> school_best/crime.csv.DBN, school_best/base.csv.DBN -> school_best/disc.csv.DBN, school_best/base.csv.DBN -> school_best/oss.csv.DBN], school_best/base.csv -> [school_best/base.csv.DBN -> school_best/2010_Gen_Ed_Survey_Data.csv.DBN, school_best/base.csv.DBN -> school_best/Schools_Progress_Report_2012-2013.csv.DBN, school_best/base.csv.DBN -> school_best/crime.csv.DBN, school_best/base.csv.DBN -> school_best/disc.csv.DBN, school_best/base.csv.DBN -> school_best/oss.csv.DBN, school_best/base.csv.DBN -> school_best/pe.csv.DBN], school_best/base.csv -> [school_best/base.csv.DBN -> school_best/2010_Gen_Ed_Survey_Data.csv.DBN, school_best/base.csv.DBN -> school_best/Schools_Progress_Report_2012-2013.csv.DBN, school_best/base.csv.DBN -> school_best/crime.csv.DBN, school_best/base.csv.DBN -> school_best/disc.csv.DBN, school_best/base.csv.DBN -> school_best/oss.csv.DBN, school_best/base.csv.DBN -> school_best/pe.csv.DBN, school_best/base.csv.DBN -> school_best/qr.csv.DBN]]\n",
      "0.8297872340425532\n"
     ]
    },
    {
     "name": "stderr",
     "output_type": "stream",
     "text": [
      "\n"
     ]
    }
   ],
   "source": [
    "autofeat.evaluate_augmented_table(tree_id=3)\n"
   ]
  },
  {
   "cell_type": "code",
   "execution_count": null,
   "metadata": {
    "collapsed": false
   },
   "outputs": [],
   "source": [
    "autofeat.remove_join_path_from_tree(tree_id=3,\n",
    "                                    table=\"school/2013_NYC_School_Survey.csv\")\n",
    "autofeat.evaluate_augmented_table(tree_id=3)\n"
   ]
  },
  {
   "cell_type": "code",
   "execution_count": null,
   "metadata": {
    "collapsed": false
   },
   "outputs": [],
   "source": [
    "autofeat.inspect_join_tree(tree_id=2)\n"
   ]
  },
  {
   "cell_type": "code",
   "execution_count": null,
   "metadata": {
    "collapsed": false
   },
   "outputs": [],
   "source": [
    "autofeat.evaluate_augmented_table(tree_id=2)"
   ]
  },
  {
   "cell_type": "code",
   "execution_count": null,
   "metadata": {
    "collapsed": false
   },
   "outputs": [],
   "source": [
    "autofeat.move_features_to_discarded(tree_id=2,\n",
    "    features=[\n",
    "        \"school/2013_NYC_School_Survey.csv.School Type\",\n",
    "        \"school/2010_Gen_Ed_Survey_Data.csv.studentsurvey\"])\n",
    "autofeat.evaluate_augmented_table(tree_id=2)\n"
   ]
  },
  {
   "cell_type": "code",
   "execution_count": null,
   "metadata": {
    "collapsed": false
   },
   "outputs": [],
   "source": [
    "autofeat.evaluate_paths(top_k_paths=3, explain=True)"
   ]
  },
  {
   "cell_type": "code",
   "execution_count": null,
   "metadata": {
    "collapsed": false
   },
   "outputs": [],
   "source": [
    "print(autofeat.get_best_result())"
   ]
  },
  {
   "cell_type": "code",
   "execution_count": null,
   "metadata": {
    "collapsed": false
   },
   "outputs": [],
   "source": []
  }
 ],
 "metadata": {
  "kernelspec": {
   "display_name": ".venv",
   "language": "python",
   "name": "python3"
  },
  "language_info": {
   "codemirror_mode": {
    "name": "ipython",
    "version": 3
   },
   "file_extension": ".py",
   "mimetype": "text/x-python",
   "name": "python",
   "nbconvert_exporter": "python",
   "pygments_lexer": "ipython3",
   "version": "3.10.12"
  }
 },
 "nbformat": 4,
 "nbformat_minor": 2
}
