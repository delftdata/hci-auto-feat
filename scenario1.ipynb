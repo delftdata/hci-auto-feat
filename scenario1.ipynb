{
 "cells": [
  {
   "cell_type": "code",
   "execution_count": null,
   "metadata": {},
   "outputs": [],
   "source": [
    "from autofeatinsights.autofeat_class import FeatureDiscovery\n",
    "\n",
    "autofeat = FeatureDiscovery()\n",
    "autofeat.set_base_table(base_table=\"school/base.csv\", target_column=\"class\")\n",
    "autofeat.set_dataset_repository(dataset_repository=[\"school\"])\n",
    "autofeat.augment_dataset(explain=True)\n",
    "\n"
   ]
  },
  {
   "cell_type": "code",
   "execution_count": null,
   "outputs": [],
   "source": [],
   "metadata": {
    "collapsed": false
   }
  }
 ],
 "metadata": {
  "kernelspec": {
   "display_name": ".venv",
   "language": "python",
   "name": "python3"
  },
  "language_info": {
   "codemirror_mode": {
    "name": "ipython",
    "version": 3
   },
   "file_extension": ".py",
   "mimetype": "text/x-python",
   "name": "python",
   "nbconvert_exporter": "python",
   "pygments_lexer": "ipython3",
   "version": "3.11.6"
  }
 },
 "nbformat": 4,
 "nbformat_minor": 2
}
