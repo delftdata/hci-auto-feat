{
 "cells": [
  {
   "cell_type": "code",
   "execution_count": 1,
   "metadata": {},
   "outputs": [
    {
     "name": "stderr",
     "output_type": "stream",
     "text": [
      "/home/zeger/hci-auto-feat/.eval_venv/lib/python3.10/site-packages/tqdm/auto.py:21: TqdmWarning: IProgress not found. Please update jupyter and ipywidgets. See https://ipywidgets.readthedocs.io/en/stable/user_install.html\n",
      "  from .autonotebook import tqdm as notebook_tqdm\n"
     ]
    }
   ],
   "source": [
    "from autotda.autofeat_class import TDA"
   ]
  },
  {
   "cell_type": "code",
   "execution_count": 2,
   "metadata": {},
   "outputs": [],
   "source": [
    "autofeat = TDA()\n",
    "autofeat.set_base_table(base_table=\"school/base.csv\", target_column=\"class\")\n",
    "autofeat.set_dataset_repository(dataset_repository=[\"school\"])"
   ]
  },
  {
   "cell_type": "markdown",
   "metadata": {},
   "source": [
    "## Is it clear how to initialize a Tabular Data Augmentation?"
   ]
  },
  {
   "cell_type": "code",
   "execution_count": 3,
   "metadata": {},
   "outputs": [
    {
     "name": "stdout",
     "output_type": "stream",
     "text": [
      "Reading from cache file: saved_weights/school/base.csv_0.5_coma_weights.txt\n",
      "Calculating join trees...\n"
     ]
    },
    {
     "name": "stderr",
     "output_type": "stream",
     "text": [
      "/home/zeger/hci-auto-feat/.eval_venv/lib/python3.10/site-packages/pandas/core/arrays/base.py:513: RuntimeWarning: invalid value encountered in cast\n",
      "  result = np.asarray(self, dtype=dtype)\n"
     ]
    },
    {
     "name": "stdout",
     "output_type": "stream",
     "text": [
      "Evaluating join trees...\n"
     ]
    },
    {
     "name": "stderr",
     "output_type": "stream",
     "text": [
      "100%|██████████| 3/3 [00:14<00:00,  4.91s/it]"
     ]
    },
    {
     "name": "stdout",
     "output_type": "stream",
     "text": [
      "AutoFeat creates 11 join trees: the best performing join tree is tree: 10\n",
      "The join tree starts at the table school/base.csv. \n",
      "The join tree has the following joins: \n",
      " \t from (table.column) school/base.csv.DBN to (table.column) school/2010_Gen_Ed_Survey_Data.csv.DBN with Non-Null ratio 0.87.\n",
      " \t from (table.column) school/base.csv.DBN to (table.column) school/Schools_Progress_Report_2012-2013.csv.DBN with Non-Null ratio 0.96.\n",
      " \t from (table.column) school/base.csv.DBN to (table.column) school/disc.csv.DBN with Non-Null ratio 0.86.\n",
      " \t from (table.column) school/base.csv.DBN to (table.column) school/esl.csv.DBN with Non-Null ratio 0.63.\n",
      " \t from (table.column) school/base.csv.DBN to (table.column) school/gender.csv.DBN with Non-Null ratio 0.62.\n",
      " \t from (table.column) school/base.csv.DBN to (table.column) school/math.csv.DBN with Non-Null ratio 0.63.\n",
      " \t from (table.column) school/base.csv.DBN to (table.column) school/oss.csv.DBN with Non-Null ratio 0.88.\n",
      " \t from (table.column) school/base.csv.DBN to (table.column) school/pe.csv.DBN with Non-Null ratio 0.85.\n",
      " \t from (table.column) school/base.csv.DBN to (table.column) school/qr.csv.DBN with Non-Null ratio 0.84.\n",
      "The rank of the tree is 1.09.\n",
      "\n",
      "\tSelected features:\n",
      "\n",
      "+-----------------------------------------------------------------------------------------------+------------------+-------------+--------------+\n",
      "| Key                                                                                           |   Non-Null Ratio |   Relevance |   Redundancy |\n",
      "+===============================================================================================+==================+=============+==============+\n",
      "| school/2010_Gen_Ed_Survey_Data.csv.studentsurvey                                              |         0.873168 |  0.270114   |     1        |\n",
      "+-----------------------------------------------------------------------------------------------+------------------+-------------+--------------+\n",
      "| school/Schools_Progress_Report_2012-2013.csv.2012-2013 ENVIRONMENT GRADE                      |         0.959977 |  0.446768   |     1        |\n",
      "+-----------------------------------------------------------------------------------------------+------------------+-------------+--------------+\n",
      "| school/Schools_Progress_Report_2012-2013.csv.2011-12 PROGRESS REPORT GRADE                    |         0.959977 |  0.221042   |     0.614142 |\n",
      "+-----------------------------------------------------------------------------------------------+------------------+-------------+--------------+\n",
      "| school/Schools_Progress_Report_2012-2013.csv.2012-2013 OVERALL GRADE                          |         0.959977 |  0.206767   |     0.592583 |\n",
      "+-----------------------------------------------------------------------------------------------+------------------+-------------+--------------+\n",
      "| school/Schools_Progress_Report_2012-2013.csv.2010-11 PROGRESS REPORT GRADE                    |         0.959977 |  0.202085   |     0.517268 |\n",
      "+-----------------------------------------------------------------------------------------------+------------------+-------------+--------------+\n",
      "| school/Schools_Progress_Report_2012-2013.csv.2012-2013 COLLEGE AND CAREER READINESS GRADE     |         0.959977 |  0.200034   |     0.270331 |\n",
      "+-----------------------------------------------------------------------------------------------+------------------+-------------+--------------+\n",
      "| school/Schools_Progress_Report_2012-2013.csv.2009-10 PROGRESS REPORT GRADE                    |         0.959977 |  0.197591   |     0.503428 |\n",
      "+-----------------------------------------------------------------------------------------------+------------------+-------------+--------------+\n",
      "| school/Schools_Progress_Report_2012-2013.csv.2012-2013PERFORMANCE GRADE                       |         0.959977 |  0.18178    |     0.56969  |\n",
      "+-----------------------------------------------------------------------------------------------+------------------+-------------+--------------+\n",
      "| school/Schools_Progress_Report_2012-2013.csv.2012-2013 PROGRESS GRADE                         |         0.959977 |  0.102839   |     0.519741 |\n",
      "+-----------------------------------------------------------------------------------------------+------------------+-------------+--------------+\n",
      "| school/disc.csv.B40 Intimidating and Bullying Behavior S                                      |         0.863021 |  0.0228692  |     0.99721  |\n",
      "+-----------------------------------------------------------------------------------------------+------------------+-------------+--------------+\n",
      "| school/disc.csv.B22 Trespassing R                                                             |         0.863021 |  0.0228692  |     0.996215 |\n",
      "+-----------------------------------------------------------------------------------------------+------------------+-------------+--------------+\n",
      "| school/disc.csv.B49 Using Controlled Substances w/o Authorization, Illegal Drugs or Alcohol S |         0.863021 |  0.0200047  |     0.992854 |\n",
      "+-----------------------------------------------------------------------------------------------+------------------+-------------+--------------+\n",
      "| school/disc.csv.A34 Coercion/Threats P                                                        |         0.863021 |  0.0200047  |     0.994153 |\n",
      "+-----------------------------------------------------------------------------------------------+------------------+-------------+--------------+\n",
      "| school/disc.csv.B23 Using Slurs (Bias) R                                                      |         0.863021 |  0.0200047  |     0.993962 |\n",
      "+-----------------------------------------------------------------------------------------------+------------------+-------------+--------------+\n",
      "| school/disc.csv.B40 Intimidating and Bullying Behavior R                                      |         0.863021 |  0.0195479  |     1        |\n",
      "+-----------------------------------------------------------------------------------------------+------------------+-------------+--------------+\n",
      "| school/disc.csv.A38 Sexually Suggestive (Verbal/Physical) R                                   |         0.863021 |  0.0195479  |     1        |\n",
      "+-----------------------------------------------------------------------------------------------+------------------+-------------+--------------+\n",
      "| school/disc.csv.A31 Posting/Distributing Unauthorized Libelous Material P                     |         0.863021 |  0.0195479  |     1        |\n",
      "+-----------------------------------------------------------------------------------------------+------------------+-------------+--------------+\n",
      "| school/disc.csv.A26 Possession of Property w/o Authorization R                                |         0.863021 |  0.0195479  |     1        |\n",
      "+-----------------------------------------------------------------------------------------------+------------------+-------------+--------------+\n",
      "| school/esl.csv.Category                                                                       |         0.629651 |  0.0480833  |     1        |\n",
      "+-----------------------------------------------------------------------------------------------+------------------+-------------+--------------+\n",
      "| school/gender.csv.Category                                                                    |         0.617249 |  0.0861669  |     1        |\n",
      "+-----------------------------------------------------------------------------------------------+------------------+-------------+--------------+\n",
      "| school/math.csv.Category                                                                      |         0.629651 |  0.0480833  |     1        |\n",
      "+-----------------------------------------------------------------------------------------------+------------------+-------------+--------------+\n",
      "| school/oss.csv.AMERICAN INDIAN/ALASKAN NATIVE STUDENTS With 2 or More Suspensions or Removals |         0.880496 |  0.0118535  |     1        |\n",
      "+-----------------------------------------------------------------------------------------------+------------------+-------------+--------------+\n",
      "| school/oss.csv.UNKNOWN STUDENTS With 2 or More Suspensions or Removals                        |         0.880496 |  0.0118535  |     1        |\n",
      "+-----------------------------------------------------------------------------------------------+------------------+-------------+--------------+\n",
      "| school/oss.csv.MULTI-RACIAL STUDENTS With 2 or More Suspensions or Removals                   |         0.880496 |  0.0118535  |     1        |\n",
      "+-----------------------------------------------------------------------------------------------+------------------+-------------+--------------+\n",
      "| school/pe.csv.Borough                                                                         |         0.850056 |  0.0583471  |     1        |\n",
      "+-----------------------------------------------------------------------------------------------+------------------+-------------+--------------+\n",
      "| school/qr.csv.School Year                                                                     |         0.844419 |  0.119342   |     0.998173 |\n",
      "+-----------------------------------------------------------------------------------------------+------------------+-------------+--------------+\n",
      "| school/qr.csv.Overall Rating                                                                  |         0.844419 |  0.00230791 |     1        |\n",
      "+-----------------------------------------------------------------------------------------------+------------------+-------------+--------------+\n",
      "The result is calculated by evaluating the dataset corresponding to the join tree\n",
      " using the AutoML framework AutoGluon.\n",
      " The accuracy of the model LightGBM is 0.8140845070422535.\n",
      " The model used the following features: \n",
      "+-----------------------------------------------------------------------------------------------+--------------+\n",
      "| Feature                                                                                       |   Importance |\n",
      "+===============================================================================================+==============+\n",
      "| school/Schools_Progress_Report_2012-2013.csv.2012-2013 ENVIRONMENT GRADE                      |   0.205634   |\n",
      "+-----------------------------------------------------------------------------------------------+--------------+\n",
      "| school/base.csv.Total Parent Response Rate (%)                                                |   0.0349296  |\n",
      "+-----------------------------------------------------------------------------------------------+--------------+\n",
      "| school/2010_Gen_Ed_Survey_Data.csv.studentsurvey                                              |   0.0349296  |\n",
      "+-----------------------------------------------------------------------------------------------+--------------+\n",
      "| school/base.csv.School Type                                                                   |   0.0270423  |\n",
      "+-----------------------------------------------------------------------------------------------+--------------+\n",
      "| school/base.csv.Total Student Response Rate (%)                                               |   0.0264789  |\n",
      "+-----------------------------------------------------------------------------------------------+--------------+\n",
      "| school/Schools_Progress_Report_2012-2013.csv.2010-11 PROGRESS REPORT GRADE                    |   0.0140845  |\n",
      "+-----------------------------------------------------------------------------------------------+--------------+\n",
      "| school/qr.csv.School Year                                                                     |   0.0107042  |\n",
      "+-----------------------------------------------------------------------------------------------+--------------+\n",
      "| school/pe.csv.Borough                                                                         |   0.00676056 |\n",
      "+-----------------------------------------------------------------------------------------------+--------------+\n",
      "| school/Schools_Progress_Report_2012-2013.csv.2011-12 PROGRESS REPORT GRADE                    |   0.00619718 |\n",
      "+-----------------------------------------------------------------------------------------------+--------------+\n",
      "| school/esl.csv.Category                                                                       |   0.0056338  |\n",
      "+-----------------------------------------------------------------------------------------------+--------------+\n",
      "| school/Schools_Progress_Report_2012-2013.csv.2012-2013 PROGRESS GRADE                         |   0.00450704 |\n",
      "+-----------------------------------------------------------------------------------------------+--------------+\n",
      "| school/Schools_Progress_Report_2012-2013.csv.2012-2013PERFORMANCE GRADE                       |   0.00450704 |\n",
      "+-----------------------------------------------------------------------------------------------+--------------+\n",
      "| school/qr.csv.Overall Rating                                                                  |   0.00394366 |\n",
      "+-----------------------------------------------------------------------------------------------+--------------+\n",
      "| school/Schools_Progress_Report_2012-2013.csv.2012-2013 COLLEGE AND CAREER READINESS GRADE     |   0.00338028 |\n",
      "+-----------------------------------------------------------------------------------------------+--------------+\n",
      "| school/Schools_Progress_Report_2012-2013.csv.2012-2013 OVERALL GRADE                          |   0.0028169  |\n",
      "+-----------------------------------------------------------------------------------------------+--------------+\n",
      "| school/disc.csv.A26 Possession of Property w/o Authorization R                                |   0.0028169  |\n",
      "+-----------------------------------------------------------------------------------------------+--------------+\n",
      "| school/gender.csv.Category                                                                    |   0.00169014 |\n",
      "+-----------------------------------------------------------------------------------------------+--------------+\n",
      "| school/disc.csv.B40 Intimidating and Bullying Behavior S                                      |   0.00112676 |\n",
      "+-----------------------------------------------------------------------------------------------+--------------+\n",
      "| school/oss.csv.AMERICAN INDIAN/ALASKAN NATIVE STUDENTS With 2 or More Suspensions or Removals |   0.00056338 |\n",
      "+-----------------------------------------------------------------------------------------------+--------------+\n",
      "| school/Schools_Progress_Report_2012-2013.csv.2009-10 PROGRESS REPORT GRADE                    |   0.00056338 |\n",
      "+-----------------------------------------------------------------------------------------------+--------------+\n",
      "| school/disc.csv.B49 Using Controlled Substances w/o Authorization, Illegal Drugs or Alcohol S |   0.00056338 |\n",
      "+-----------------------------------------------------------------------------------------------+--------------+\n",
      "| school/disc.csv.A31 Posting/Distributing Unauthorized Libelous Material P                     |   0          |\n",
      "+-----------------------------------------------------------------------------------------------+--------------+\n",
      "| school/disc.csv.A38 Sexually Suggestive (Verbal/Physical) R                                   |   0          |\n",
      "+-----------------------------------------------------------------------------------------------+--------------+\n",
      "| school/disc.csv.B40 Intimidating and Bullying Behavior R                                      |   0          |\n",
      "+-----------------------------------------------------------------------------------------------+--------------+\n",
      "| school/base.csv.School Name                                                                   |   0          |\n",
      "+-----------------------------------------------------------------------------------------------+--------------+\n",
      "| school/disc.csv.B22 Trespassing R                                                             |   0          |\n",
      "+-----------------------------------------------------------------------------------------------+--------------+\n",
      "| school/disc.csv.A34 Coercion/Threats P                                                        |   0          |\n",
      "+-----------------------------------------------------------------------------------------------+--------------+\n",
      "| school/disc.csv.B23 Using Slurs (Bias) R                                                      |   0          |\n",
      "+-----------------------------------------------------------------------------------------------+--------------+\n",
      "| school/oss.csv.UNKNOWN STUDENTS With 2 or More Suspensions or Removals                        |   0          |\n",
      "+-----------------------------------------------------------------------------------------------+--------------+\n",
      "| school/oss.csv.MULTI-RACIAL STUDENTS With 2 or More Suspensions or Removals                   |   0          |\n",
      "+-----------------------------------------------------------------------------------------------+--------------+\n",
      "| school/math.csv.Category                                                                      |   0          |\n",
      "+-----------------------------------------------------------------------------------------------+--------------+\n"
     ]
    },
    {
     "name": "stderr",
     "output_type": "stream",
     "text": [
      "\n"
     ]
    }
   ],
   "source": [
    "autofeat.augment_dataset()\n",
    "# autofeat.find_relationships()\n",
    "# autofeat.compute_join_trees()\n",
    "# autofeat.evaluate_trees()"
   ]
  },
  {
   "cell_type": "markdown",
   "metadata": {},
   "source": [
    "## What other data would you like to see in the final result? (Insights)"
   ]
  },
  {
   "cell_type": "code",
   "execution_count": 4,
   "metadata": {},
   "outputs": [
    {
     "name": "stdout",
     "output_type": "stream",
     "text": [
      " 1. AutoFeat computes the relationships between 17 tables from the datasets: ['school']. extra tables: [] and excludes: [] repository, using coma similarity score with a threshold of 0.6 (i.e., all the relationships with a similarity < 0.6 will be discarded).\n",
      "Calculating relationships...\n"
     ]
    },
    {
     "name": "stderr",
     "output_type": "stream",
     "text": [
      " 53%|█████▎    | 72/136.0 [02:03<02:22,  2.22s/it]"
     ]
    },
    {
     "ename": "KeyboardInterrupt",
     "evalue": "",
     "output_type": "error",
     "traceback": [
      "\u001b[0;31m---------------------------------------------------------------------------\u001b[0m",
      "\u001b[0;31mKeyboardInterrupt\u001b[0m                         Traceback (most recent call last)",
      "Cell \u001b[0;32mIn[4], line 3\u001b[0m\n\u001b[1;32m      1\u001b[0m \u001b[38;5;66;03m# autofeat.remove_table(table=\"school/oss.csv\")\u001b[39;00m\n\u001b[1;32m      2\u001b[0m \u001b[38;5;66;03m# autofeat.add_table(table=\"credit/table_0_0.csv\")\u001b[39;00m\n\u001b[0;32m----> 3\u001b[0m \u001b[43mautofeat\u001b[49m\u001b[38;5;241;43m.\u001b[39;49m\u001b[43mfind_relationships\u001b[49m\u001b[43m(\u001b[49m\u001b[43mexplain\u001b[49m\u001b[38;5;241;43m=\u001b[39;49m\u001b[38;5;28;43;01mTrue\u001b[39;49;00m\u001b[43m,\u001b[49m\u001b[43m \u001b[49m\u001b[43mrelationship_threshold\u001b[49m\u001b[38;5;241;43m=\u001b[39;49m\u001b[38;5;241;43m0.6\u001b[39;49m\u001b[43m)\u001b[49m\n",
      "File \u001b[0;32m~/hci-auto-feat/.eval_venv/lib/python3.10/site-packages/autotda/autofeat_class.py:188\u001b[0m, in \u001b[0;36mTDA.find_relationships\u001b[0;34m(self, matcher, relationship_threshold, explain, use_cache, verbose)\u001b[0m\n\u001b[1;32m    186\u001b[0m \u001b[38;5;28mself\u001b[39m\u001b[38;5;241m.\u001b[39mmatcher \u001b[38;5;241m=\u001b[39m matcher\n\u001b[1;32m    187\u001b[0m \u001b[38;5;28mself\u001b[39m\u001b[38;5;241m.\u001b[39mrelationship_threshold \u001b[38;5;241m=\u001b[39m relationship_threshold\n\u001b[0;32m--> 188\u001b[0m \u001b[43mrelationship_functions\u001b[49m\u001b[38;5;241;43m.\u001b[39;49m\u001b[43mfind_relationships\u001b[49m\u001b[43m(\u001b[49m\u001b[38;5;28;43mself\u001b[39;49m\u001b[43m,\u001b[49m\u001b[43m \u001b[49m\u001b[43mrelationship_threshold\u001b[49m\u001b[43m,\u001b[49m\u001b[43m \u001b[49m\u001b[43mmatcher\u001b[49m\u001b[43m,\u001b[49m\u001b[43m \u001b[49m\u001b[43mexplain\u001b[49m\u001b[43m,\u001b[49m\u001b[43m \u001b[49m\n\u001b[1;32m    189\u001b[0m \u001b[43m                                          \u001b[49m\u001b[43muse_cache\u001b[49m\u001b[38;5;241;43m=\u001b[39;49m\u001b[43muse_cache\u001b[49m\u001b[43m,\u001b[49m\u001b[43m \u001b[49m\u001b[43mverbose\u001b[49m\u001b[38;5;241;43m=\u001b[39;49m\u001b[43mverbose\u001b[49m\u001b[43m)\u001b[49m\n",
      "File \u001b[0;32m~/hci-auto-feat/src/autotda/functions/relationship_functions.py:86\u001b[0m, in \u001b[0;36mfind_relationships\u001b[0;34m(autofeat, relationship_threshold, matcher, explain, verbose, use_cache)\u001b[0m\n\u001b[1;32m     83\u001b[0m     \u001b[38;5;28;01melse\u001b[39;00m:\n\u001b[1;32m     84\u001b[0m         autofeat\u001b[38;5;241m.\u001b[39mweight_string_mapping[t] \u001b[38;5;241m=\u001b[39m t\n\u001b[0;32m---> 86\u001b[0m \u001b[43mParallel\u001b[49m\u001b[43m(\u001b[49m\u001b[43mn_jobs\u001b[49m\u001b[38;5;241;43m=\u001b[39;49m\u001b[38;5;241;43m-\u001b[39;49m\u001b[38;5;241;43m1\u001b[39;49m\u001b[43m)\u001b[49m\u001b[43m(\u001b[49m\u001b[43mdelayed\u001b[49m\u001b[43m(\u001b[49m\u001b[43mprofile\u001b[49m\u001b[43m)\u001b[49m\u001b[43m(\u001b[49m\u001b[43mcombination\u001b[49m\u001b[43m,\u001b[49m\u001b[43m \u001b[49m\u001b[43mmatcher\u001b[49m\u001b[43m)\u001b[49m\n\u001b[1;32m     87\u001b[0m \u001b[43m                    \u001b[49m\u001b[38;5;28;43;01mfor\u001b[39;49;00m\u001b[43m \u001b[49m\u001b[43mcombination\u001b[49m\u001b[43m \u001b[49m\u001b[38;5;129;43;01min\u001b[39;49;00m\u001b[43m \u001b[49m\u001b[43mtqdm\u001b[49m\u001b[38;5;241;43m.\u001b[39;49m\u001b[43mtqdm\u001b[49m\u001b[43m(\u001b[49m\u001b[43mitertools\u001b[49m\u001b[38;5;241;43m.\u001b[39;49m\u001b[43mcombinations\u001b[49m\u001b[43m(\u001b[49m\u001b[43mtables\u001b[49m\u001b[43m,\u001b[49m\u001b[43m \u001b[49m\u001b[38;5;241;43m2\u001b[39;49m\u001b[43m)\u001b[49m\u001b[43m,\u001b[49m\u001b[43m \u001b[49m\n\u001b[1;32m     88\u001b[0m \u001b[43m                                                 \u001b[49m\u001b[43mtotal\u001b[49m\u001b[38;5;241;43m=\u001b[39;49m\u001b[38;5;28;43mlen\u001b[39;49m\u001b[43m(\u001b[49m\u001b[43mtables\u001b[49m\u001b[43m)\u001b[49m\u001b[43m \u001b[49m\u001b[38;5;241;43m*\u001b[39;49m\u001b[43m \u001b[49m\u001b[43m(\u001b[49m\u001b[38;5;28;43mlen\u001b[39;49m\u001b[43m(\u001b[49m\u001b[43mtables\u001b[49m\u001b[43m)\u001b[49m\u001b[43m \u001b[49m\u001b[38;5;241;43m-\u001b[39;49m\u001b[43m \u001b[49m\u001b[38;5;241;43m1\u001b[39;49m\u001b[43m)\u001b[49m\u001b[43m \u001b[49m\u001b[38;5;241;43m/\u001b[39;49m\u001b[43m \u001b[49m\u001b[38;5;241;43m2\u001b[39;49m\u001b[43m)\u001b[49m\u001b[43m)\u001b[49m\n\u001b[1;32m     89\u001b[0m autofeat\u001b[38;5;241m.\u001b[39mweights \u001b[38;5;241m=\u001b[39m temp\n\u001b[1;32m     91\u001b[0m \u001b[38;5;28;01mif\u001b[39;00m use_cache:\n",
      "File \u001b[0;32m~/hci-auto-feat/.eval_venv/lib/python3.10/site-packages/joblib/parallel.py:1952\u001b[0m, in \u001b[0;36mParallel.__call__\u001b[0;34m(self, iterable)\u001b[0m\n\u001b[1;32m   1946\u001b[0m \u001b[38;5;66;03m# The first item from the output is blank, but it makes the interpreter\u001b[39;00m\n\u001b[1;32m   1947\u001b[0m \u001b[38;5;66;03m# progress until it enters the Try/Except block of the generator and\u001b[39;00m\n\u001b[1;32m   1948\u001b[0m \u001b[38;5;66;03m# reach the first `yield` statement. This starts the aynchronous\u001b[39;00m\n\u001b[1;32m   1949\u001b[0m \u001b[38;5;66;03m# dispatch of the tasks to the workers.\u001b[39;00m\n\u001b[1;32m   1950\u001b[0m \u001b[38;5;28mnext\u001b[39m(output)\n\u001b[0;32m-> 1952\u001b[0m \u001b[38;5;28;01mreturn\u001b[39;00m output \u001b[38;5;28;01mif\u001b[39;00m \u001b[38;5;28mself\u001b[39m\u001b[38;5;241m.\u001b[39mreturn_generator \u001b[38;5;28;01melse\u001b[39;00m \u001b[38;5;28;43mlist\u001b[39;49m\u001b[43m(\u001b[49m\u001b[43moutput\u001b[49m\u001b[43m)\u001b[49m\n",
      "File \u001b[0;32m~/hci-auto-feat/.eval_venv/lib/python3.10/site-packages/joblib/parallel.py:1595\u001b[0m, in \u001b[0;36mParallel._get_outputs\u001b[0;34m(self, iterator, pre_dispatch)\u001b[0m\n\u001b[1;32m   1592\u001b[0m     \u001b[38;5;28;01myield\u001b[39;00m\n\u001b[1;32m   1594\u001b[0m     \u001b[38;5;28;01mwith\u001b[39;00m \u001b[38;5;28mself\u001b[39m\u001b[38;5;241m.\u001b[39m_backend\u001b[38;5;241m.\u001b[39mretrieval_context():\n\u001b[0;32m-> 1595\u001b[0m         \u001b[38;5;28;01myield from\u001b[39;00m \u001b[38;5;28mself\u001b[39m\u001b[38;5;241m.\u001b[39m_retrieve()\n\u001b[1;32m   1597\u001b[0m \u001b[38;5;28;01mexcept\u001b[39;00m \u001b[38;5;167;01mGeneratorExit\u001b[39;00m:\n\u001b[1;32m   1598\u001b[0m     \u001b[38;5;66;03m# The generator has been garbage collected before being fully\u001b[39;00m\n\u001b[1;32m   1599\u001b[0m     \u001b[38;5;66;03m# consumed. This aborts the remaining tasks if possible and warn\u001b[39;00m\n\u001b[1;32m   1600\u001b[0m     \u001b[38;5;66;03m# the user if necessary.\u001b[39;00m\n\u001b[1;32m   1601\u001b[0m     \u001b[38;5;28mself\u001b[39m\u001b[38;5;241m.\u001b[39m_exception \u001b[38;5;241m=\u001b[39m \u001b[38;5;28;01mTrue\u001b[39;00m\n",
      "File \u001b[0;32m~/hci-auto-feat/.eval_venv/lib/python3.10/site-packages/joblib/parallel.py:1707\u001b[0m, in \u001b[0;36mParallel._retrieve\u001b[0;34m(self)\u001b[0m\n\u001b[1;32m   1702\u001b[0m \u001b[38;5;66;03m# If the next job is not ready for retrieval yet, we just wait for\u001b[39;00m\n\u001b[1;32m   1703\u001b[0m \u001b[38;5;66;03m# async callbacks to progress.\u001b[39;00m\n\u001b[1;32m   1704\u001b[0m \u001b[38;5;28;01mif\u001b[39;00m ((\u001b[38;5;28mlen\u001b[39m(\u001b[38;5;28mself\u001b[39m\u001b[38;5;241m.\u001b[39m_jobs) \u001b[38;5;241m==\u001b[39m \u001b[38;5;241m0\u001b[39m) \u001b[38;5;129;01mor\u001b[39;00m\n\u001b[1;32m   1705\u001b[0m     (\u001b[38;5;28mself\u001b[39m\u001b[38;5;241m.\u001b[39m_jobs[\u001b[38;5;241m0\u001b[39m]\u001b[38;5;241m.\u001b[39mget_status(\n\u001b[1;32m   1706\u001b[0m         timeout\u001b[38;5;241m=\u001b[39m\u001b[38;5;28mself\u001b[39m\u001b[38;5;241m.\u001b[39mtimeout) \u001b[38;5;241m==\u001b[39m TASK_PENDING)):\n\u001b[0;32m-> 1707\u001b[0m     \u001b[43mtime\u001b[49m\u001b[38;5;241;43m.\u001b[39;49m\u001b[43msleep\u001b[49m\u001b[43m(\u001b[49m\u001b[38;5;241;43m0.01\u001b[39;49m\u001b[43m)\u001b[49m\n\u001b[1;32m   1708\u001b[0m     \u001b[38;5;28;01mcontinue\u001b[39;00m\n\u001b[1;32m   1710\u001b[0m \u001b[38;5;66;03m# We need to be careful: the job list can be filling up as\u001b[39;00m\n\u001b[1;32m   1711\u001b[0m \u001b[38;5;66;03m# we empty it and Python list are not thread-safe by\u001b[39;00m\n\u001b[1;32m   1712\u001b[0m \u001b[38;5;66;03m# default hence the use of the lock\u001b[39;00m\n",
      "\u001b[0;31mKeyboardInterrupt\u001b[0m: "
     ]
    }
   ],
   "source": [
    "# autofeat.remove_table(table=\"school/oss.csv\")\n",
    "# autofeat.add_table(table=\"credit/table_0_0.csv\")\n",
    "autofeat.find_relationships(explain=True, relationship_threshold=0.6)"
   ]
  },
  {
   "cell_type": "markdown",
   "metadata": {},
   "source": [
    "## Is there any more control that you would like to see in setting up the datasets? Besides parameters. (Control)\n",
    "## What do you think about the relationships explaination? Is there any information that you would like to see as well? Or do you think it is too much (you can turn it off)"
   ]
  },
  {
   "cell_type": "code",
   "execution_count": null,
   "metadata": {},
   "outputs": [],
   "source": [
    "autofeat.display_best_relationships()"
   ]
  },
  {
   "cell_type": "markdown",
   "metadata": {},
   "source": [
    "## What do you think of this relationship overview? (Insights)"
   ]
  },
  {
   "cell_type": "code",
   "execution_count": null,
   "metadata": {},
   "outputs": [],
   "source": [
    "autofeat.remove_relationship(table1=\"school/ap.csv\", col1=\"DBN\", table2=\"school/qr.csv\", col2=\"DBN\")\n",
    "# autofeat.update_relationship(table1=\"school/ap.csv\", col1=\"SchoolName\", table2=\"school/qr.csv\", col2=\"School Name\", weight=0.2)\n",
    "# autofeat.add_relationship(table1=\"school/ap.csv\", col1=\"SchoolName\", table2=\"school/qr.csv\", col2=\"School Name\", weight=0.2)\n",
    "\n",
    "\n"
   ]
  },
  {
   "cell_type": "markdown",
   "metadata": {},
   "source": [
    "## Are there more functionalities that you would like to see in controlling the relationships? (Control)"
   ]
  },
  {
   "cell_type": "code",
   "execution_count": null,
   "metadata": {},
   "outputs": [],
   "source": [
    "autofeat.display_table_relationship(table1=\"school/ap.csv\", table2=\"school/qr.csv\")\n"
   ]
  },
  {
   "cell_type": "code",
   "execution_count": null,
   "metadata": {},
   "outputs": [],
   "source": [
    "autofeat.explain_relationship(table1=\"school/ap.csv\", table2=\"school/qr.csv\")\n"
   ]
  },
  {
   "cell_type": "markdown",
   "metadata": {},
   "source": [
    "## Is there more/less data that you would like to see in the relationships? (Insights)"
   ]
  },
  {
   "cell_type": "code",
   "execution_count": null,
   "metadata": {},
   "outputs": [],
   "source": [
    "autofeat.compute_join_trees(explain=True)"
   ]
  },
  {
   "cell_type": "markdown",
   "metadata": {},
   "source": [
    "## Would you like to see information during the join tree calculation? (insights)\n",
    "## Would you like to interfere with the tree calculations?"
   ]
  },
  {
   "cell_type": "code",
   "execution_count": null,
   "metadata": {},
   "outputs": [],
   "source": [
    "autofeat.display_join_trees()\n"
   ]
  },
  {
   "cell_type": "markdown",
   "metadata": {},
   "source": [
    "## What do you think of these join trees? Is it clear enough how they are constructed? \n",
    "## "
   ]
  },
  {
   "cell_type": "code",
   "execution_count": null,
   "metadata": {},
   "outputs": [],
   "source": [
    "autofeat.inspect_join_tree(tree_id=5)\n",
    "autofeat.explain_tree(tree_id=5)"
   ]
  },
  {
   "cell_type": "markdown",
   "metadata": {},
   "source": [
    "## Is this enough data for you? (Insights) Or should it be less? (Insights)"
   ]
  },
  {
   "cell_type": "code",
   "execution_count": null,
   "metadata": {},
   "outputs": [],
   "source": [
    "autofeat.remove_join_path_from_tree(tree_id=5, table=\"school/disc.csv\")\n"
   ]
  },
  {
   "cell_type": "markdown",
   "metadata": {},
   "source": [
    "## Would you like more functionalities for adjusting the join trees? (Control)"
   ]
  },
  {
   "cell_type": "code",
   "execution_count": null,
   "metadata": {},
   "outputs": [],
   "source": [
    "autofeat.show_features(tree_id=5, show_discarded_features=True)\n"
   ]
  },
  {
   "cell_type": "code",
   "execution_count": null,
   "metadata": {},
   "outputs": [],
   "source": [
    "autofeat.move_features_to_selected(tree_id=5, features=[\"school/esl.csv.Grade\"])\n",
    "# autofeat.move_features_to_discarded(tree_id=5, features=[\"school/esl.csv.Grade\"])"
   ]
  },
  {
   "cell_type": "markdown",
   "metadata": {},
   "source": [
    "## Would you like more data about the features? (Insights)\n",
    "## Would you like to control more data of the features (Control)"
   ]
  },
  {
   "cell_type": "code",
   "execution_count": null,
   "metadata": {},
   "outputs": [],
   "source": [
    "autofeat.evaluate_trees(algorithm='GBM', top_k_trees= 3, verbose=True, explain=True)\n"
   ]
  },
  {
   "cell_type": "markdown",
   "metadata": {},
   "source": [
    "## Is this enough data to understand what happens during the evaluation of a tree? (Insights)\n",
    "## Would you like to have control over the tree evaluation? (Control)"
   ]
  },
  {
   "cell_type": "code",
   "execution_count": null,
   "metadata": {},
   "outputs": [],
   "source": [
    "autofeat.explain_result(tree_id=1, model=\"GBM\")\n"
   ]
  },
  {
   "cell_type": "markdown",
   "metadata": {},
   "source": [
    "## Is the result well explained or are you missing some information? (Insights)"
   ]
  },
  {
   "cell_type": "code",
   "execution_count": null,
   "metadata": {},
   "outputs": [],
   "source": [
    "best_result = autofeat.get_best_result()\n",
    "autofeat.explain_tree(best_result.tree.id)\n",
    "dataframe = autofeat.materialise_join_tree(tree_id=best_result.tree.id)\n",
    "dataframe.head()"
   ]
  },
  {
   "cell_type": "markdown",
   "metadata": {},
   "source": [
    "## Would you like more functionalities when creating a dataframe from a result? (Control)\n"
   ]
  },
  {
   "cell_type": "markdown",
   "metadata": {},
   "source": [
    "## Would you prefer to use this tool in a GUI or in a notebook? (Insights & Control)\n",
    "\n",
    "## Would you now rely on such a tool to do your TDA?\n"
   ]
  }
 ],
 "metadata": {
  "kernelspec": {
   "display_name": ".venv",
   "language": "python",
   "name": "python3"
  },
  "language_info": {
   "codemirror_mode": {
    "name": "ipython",
    "version": 3
   },
   "file_extension": ".py",
   "mimetype": "text/x-python",
   "name": "python",
   "nbconvert_exporter": "python",
   "pygments_lexer": "ipython3",
   "version": "3.10.12"
  }
 },
 "nbformat": 4,
 "nbformat_minor": 2
}
