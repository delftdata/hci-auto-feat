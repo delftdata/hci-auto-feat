{
 "cells": [
  {
   "cell_type": "code",
   "execution_count": 2,
   "metadata": {},
   "outputs": [
    {
     "name": "stderr",
     "output_type": "stream",
     "text": [
      "INFO:root:Step 2: Calculating paths\n"
     ]
    },
    {
     "ename": "KeyError",
     "evalue": "\"['school_best/base.csv', 'school_best/2010_Gen_Ed_Survey_Data.csv']\"",
     "output_type": "error",
     "traceback": [
      "\u001b[0;31m---------------------------------------------------------------------------\u001b[0m",
      "\u001b[0;31mKeyError\u001b[0m                                  Traceback (most recent call last)",
      "Cell \u001b[0;32mIn[2], line 6\u001b[0m\n\u001b[1;32m      4\u001b[0m autofeat\u001b[38;5;241m.\u001b[39mset_dataset_repository(dataset_repository\u001b[38;5;241m=\u001b[39m[\u001b[38;5;124m\"\u001b[39m\u001b[38;5;124mschool_best\u001b[39m\u001b[38;5;124m\"\u001b[39m])\n\u001b[1;32m      5\u001b[0m autofeat\u001b[38;5;241m.\u001b[39mread_relationships()\n\u001b[0;32m----> 6\u001b[0m \u001b[43mautofeat\u001b[49m\u001b[38;5;241;43m.\u001b[39;49m\u001b[43mcompute_join_paths\u001b[49m\u001b[43m(\u001b[49m\u001b[43mtop_k_features\u001b[49m\u001b[38;5;241;43m=\u001b[39;49m\u001b[38;5;241;43m1\u001b[39;49m\u001b[43m)\u001b[49m\n\u001b[1;32m      7\u001b[0m autofeat\u001b[38;5;241m.\u001b[39mdisplay_join_paths()\n\u001b[1;32m      8\u001b[0m autofeat\u001b[38;5;241m.\u001b[39mshow_features(\u001b[38;5;241m1\u001b[39m, show_discarded_features\u001b[38;5;241m=\u001b[39m\u001b[38;5;28;01mTrue\u001b[39;00m)\n",
      "File \u001b[0;32m~/hci-auto-feat/autofeatinsights/autofeat_class.py:151\u001b[0m, in \u001b[0;36mFeatureDiscovery.compute_join_paths\u001b[0;34m(self, top_k_features)\u001b[0m\n\u001b[1;32m    150\u001b[0m \u001b[38;5;28;01mdef\u001b[39;00m \u001b[38;5;21mcompute_join_paths\u001b[39m(\u001b[38;5;28mself\u001b[39m, top_k_features: \u001b[38;5;28mint\u001b[39m \u001b[38;5;241m=\u001b[39m \u001b[38;5;241m10\u001b[39m):\n\u001b[0;32m--> 151\u001b[0m     \u001b[43mtree_functions\u001b[49m\u001b[38;5;241;43m.\u001b[39;49m\u001b[43mcompute_join_paths\u001b[49m\u001b[43m(\u001b[49m\u001b[38;5;28;43mself\u001b[39;49m\u001b[43m,\u001b[49m\u001b[43m \u001b[49m\u001b[43mtop_k_features\u001b[49m\u001b[43m)\u001b[49m\n",
      "File \u001b[0;32m~/hci-auto-feat/autofeatinsights/functions/tree_functions.py:22\u001b[0m, in \u001b[0;36mcompute_join_paths\u001b[0;34m(autofeat, top_k_features, null_ratio_threshold)\u001b[0m\n\u001b[1;32m     20\u001b[0m emptyPath\u001b[38;5;241m.\u001b[39mid \u001b[38;5;241m=\u001b[39m \u001b[38;5;241m0\u001b[39m\n\u001b[1;32m     21\u001b[0m autofeat\u001b[38;5;241m.\u001b[39mpaths\u001b[38;5;241m.\u001b[39mappend(emptyPath)\n\u001b[0;32m---> 22\u001b[0m \u001b[43mstream_feature_selection\u001b[49m\u001b[43m(\u001b[49m\u001b[43mautofeat\u001b[49m\u001b[38;5;241;43m=\u001b[39;49m\u001b[43mautofeat\u001b[49m\u001b[43m,\u001b[49m\u001b[43m \u001b[49m\u001b[43mtop_k_features\u001b[49m\u001b[38;5;241;43m=\u001b[39;49m\u001b[43mtop_k_features\u001b[49m\u001b[43m,\u001b[49m\u001b[43m \u001b[49m\u001b[43mqueue\u001b[49m\u001b[38;5;241;43m=\u001b[39;49m\u001b[43m{\u001b[49m\u001b[43mautofeat\u001b[49m\u001b[38;5;241;43m.\u001b[39;49m\u001b[43mbase_table\u001b[49m\u001b[43m}\u001b[49m\u001b[43m,\u001b[49m\u001b[43m \u001b[49m\n\u001b[1;32m     23\u001b[0m \u001b[43m                         \u001b[49m\u001b[43mpath\u001b[49m\u001b[38;5;241;43m=\u001b[39;49m\u001b[43mPath\u001b[49m\u001b[43m(\u001b[49m\u001b[43mbegin\u001b[49m\u001b[38;5;241;43m=\u001b[39;49m\u001b[43m(\u001b[49m\u001b[43mautofeat\u001b[49m\u001b[38;5;241;43m.\u001b[39;49m\u001b[43mbase_table\u001b[49m\u001b[43m)\u001b[49m\u001b[43m,\u001b[49m\u001b[43m \u001b[49m\u001b[43mjoins\u001b[49m\u001b[38;5;241;43m=\u001b[39;49m\u001b[43m[\u001b[49m\u001b[43m]\u001b[49m\u001b[43m,\u001b[49m\u001b[43m \u001b[49m\u001b[43mrank\u001b[49m\u001b[38;5;241;43m=\u001b[39;49m\u001b[38;5;241;43m0\u001b[39;49m\u001b[43m,\u001b[49m\u001b[43m \u001b[49m\u001b[43m)\u001b[49m\u001b[43m,\u001b[49m\u001b[43m \u001b[49m\n\u001b[1;32m     24\u001b[0m \u001b[43m                         \u001b[49m\u001b[43mnull_ratio_threshold\u001b[49m\u001b[38;5;241;43m=\u001b[39;49m\u001b[43mnull_ratio_threshold\u001b[49m\u001b[43m)\u001b[49m\n",
      "File \u001b[0;32m~/hci-auto-feat/autofeatinsights/functions/tree_functions.py:81\u001b[0m, in \u001b[0;36mstream_feature_selection\u001b[0;34m(autofeat, top_k_features, path, queue, null_ratio_threshold, previous_queue)\u001b[0m\n\u001b[1;32m     74\u001b[0m \u001b[38;5;28;01mif\u001b[39;00m null_ratio \u001b[38;5;241m<\u001b[39m null_ratio_threshold:\n\u001b[1;32m     75\u001b[0m     \u001b[38;5;28;01mcontinue\u001b[39;00m\n\u001b[1;32m     76\u001b[0m result \u001b[38;5;241m=\u001b[39m streaming_relevance_redundancy(\n\u001b[1;32m     77\u001b[0m     autofeat,\n\u001b[1;32m     78\u001b[0m     top_k_features\u001b[38;5;241m=\u001b[39mtop_k_features,\n\u001b[1;32m     79\u001b[0m     dataframe\u001b[38;5;241m=\u001b[39mjoined_df\u001b[38;5;241m.\u001b[39mcopy(),\n\u001b[1;32m     80\u001b[0m     new_features\u001b[38;5;241m=\u001b[39m\u001b[38;5;28mlist\u001b[39m(right_df\u001b[38;5;241m.\u001b[39mcolumns),\n\u001b[0;32m---> 81\u001b[0m     selected_features\u001b[38;5;241m=\u001b[39m\u001b[43mautofeat\u001b[49m\u001b[38;5;241;43m.\u001b[39;49m\u001b[43mpartial_join_selected_features\u001b[49m\u001b[43m[\u001b[49m\u001b[38;5;28;43mstr\u001b[39;49m\u001b[43m(\u001b[49m\u001b[43mprevious_table_join\u001b[49m\u001b[43m)\u001b[49m\u001b[43m]\u001b[49m,\n\u001b[1;32m     82\u001b[0m )\n\u001b[1;32m     83\u001b[0m \u001b[38;5;28;01mif\u001b[39;00m result \u001b[38;5;129;01mis\u001b[39;00m \u001b[38;5;129;01mnot\u001b[39;00m \u001b[38;5;28;01mNone\u001b[39;00m:\n\u001b[1;32m     84\u001b[0m     score, rel_score, red_score, final_features, rel_discarded, red_discarded \u001b[38;5;241m=\u001b[39m result\n",
      "\u001b[0;31mKeyError\u001b[0m: \"['school_best/base.csv', 'school_best/2010_Gen_Ed_Survey_Data.csv']\""
     ]
    }
   ],
   "source": [
    "from autofeatinsights.autofeat_class import FeatureDiscovery\n",
    "autofeat = FeatureDiscovery()\n",
    "autofeat.set_base_table(base_table=\"school_best/base.csv\", target_column=\"class\")\n",
    "autofeat.set_dataset_repository(dataset_repository=[\"school_best\"])\n",
    "autofeat.read_relationships()\n",
    "autofeat.compute_join_paths(top_k_features=1)\n",
    "autofeat.display_join_paths()\n",
    "autofeat.show_features(1, show_discarded_features=True)\n",
    "# autofeat.update_relationship(table1=\"school_best/base.csv\", col1=\"DBN\", table2=\"school_best/qr.csv\", col2=\"DBN\", weight=0.2)\n",
    "\n"
   ]
  }
 ],
 "metadata": {
  "kernelspec": {
   "display_name": ".venv",
   "language": "python",
   "name": "python3"
  },
  "language_info": {
   "codemirror_mode": {
    "name": "ipython",
    "version": 3
   },
   "file_extension": ".py",
   "mimetype": "text/x-python",
   "name": "python",
   "nbconvert_exporter": "python",
   "pygments_lexer": "ipython3",
   "version": "3.11.6"
  }
 },
 "nbformat": 4,
 "nbformat_minor": 2
}
