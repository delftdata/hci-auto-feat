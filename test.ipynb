{
 "cells": [
  {
   "cell_type": "code",
   "execution_count": 1,
   "metadata": {},
   "outputs": [],
   "source": [
    "from autofeatinsights.autofeat_class import FeatureDiscovery\n",
    "autofeat = FeatureDiscovery()\n",
    "autofeat.set_base_table(base_table=\"school_best/base.csv\", target_column=\"class\")\n",
    "autofeat.set_dataset_repository(dataset_repository=[\"school_best\"])\n",
    "autofeat.read_relationships()\n",
    "autofeat.compute_join_paths()\n",
    "autofeat.update_relationship(table1=\"school_best/base.csv\", col1=\"DBN\", table2=\"school_best/qr.csv\", col2=\"DBN\", weight=0.2)\n",
    "\n"
   ]
  }
 ],
 "metadata": {
  "kernelspec": {
   "display_name": ".venv",
   "language": "python",
   "name": "python3"
  },
  "language_info": {
   "codemirror_mode": {
    "name": "ipython",
    "version": 3
   },
   "file_extension": ".py",
   "mimetype": "text/x-python",
   "name": "python",
   "nbconvert_exporter": "python",
   "pygments_lexer": "ipython3",
   "version": "3.11.6"
  }
 },
 "nbformat": 4,
 "nbformat_minor": 2
}
